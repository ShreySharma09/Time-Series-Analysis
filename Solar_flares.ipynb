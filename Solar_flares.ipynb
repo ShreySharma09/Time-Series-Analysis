{
 "cells": [
  {
   "cell_type": "markdown",
   "metadata": {},
   "source": [
    "# Solar flares "
   ]
  },
  {
   "cell_type": "code",
   "execution_count": 3,
   "metadata": {},
   "outputs": [],
   "source": [
    "import numpy as np\n",
    "import pandas as pd\n",
    "import matplotlib.pylab as plt\n",
    "from statsmodels.tsa.stattools import adfuller\n",
    "from statsmodels.tsa.seasonal import seasonal_decompose\n",
    "from statsmodels.tsa.arima_model import ARIMA\n",
    "from pmdarima.arima import auto_arima\n",
    "from sklearn.metrics import mean_squared_error, mean_absolute_error\n",
    "import math\n",
    "import tensorflow as tf\n",
    "from tensorflow import keras\n",
    "import seaborn as sns\n",
    "from pylab import rcParams\n",
    "from matplotlib import rc\n",
    "from sklearn.model_selection import cross_val_score"
   ]
  },
  {
   "cell_type": "code",
   "execution_count": 4,
   "metadata": {},
   "outputs": [],
   "source": [
    "def load_data(filepath_train,filepath_valid,filepath_test):\n",
    "    \n",
    "    train = pd.read_csv(filepath_train)\n",
    "    valid = pd.read_csv(filepath_valid)\n",
    "    test = pd.read_csv(filepath_test)\n",
    "    #setting timestamp as index\n",
    "    train = train.set_index('timestamp')\n",
    "    valid = valid.set_index('timestamp')\n",
    "    test = test.set_index('timestamp')\n",
    "    #replacing 'negative' & 'positive' label values with 0 & 1\n",
    "    train = train.replace({'label' : { 'Negative' : 0, 'Positive' : 1}})\n",
    "    valid = valid.replace({'label' : { 'Negative' : 0, 'Positive' : 1}})\n",
    "    test = test.replace({'label' : { 'Negative' : 0, 'Positive' : 1}})\n",
    "    #converting label type to int\n",
    "    train['label'] = train['label'].astype('int')\n",
    "    valid['label'] = valid['label'].astype('int')\n",
    "    test['label'] = test['label'].astype('int')\n",
    "    \n",
    "    return (train,valid,test)"
   ]
  },
  {
   "cell_type": "code",
   "execution_count": 5,
   "metadata": {},
   "outputs": [],
   "source": [
    "#class M flares\n",
    "filepath_train ='~/Downloads/M/normalized_training.csv'\n",
    "filepath_valid = '~/Downloads/M/normalized_validation.csv'\n",
    "filepath_test= '~/Downloads/M/normalized_testing.csv'\n",
    "M_train, M_valid, M_test = load_data(filepath_train,filepath_valid,filepath_test)"
   ]
  },
  {
   "cell_type": "code",
   "execution_count": 6,
   "metadata": {},
   "outputs": [],
   "source": [
    "#class M5 flares\n",
    "filepath_train ='~/Downloads/M5/normalized_training.csv'\n",
    "filepath_valid = '~/Downloads/M5/normalized_validation.csv'\n",
    "filepath_test= '~/Downloads/M5/normalized_testing.csv'\n",
    "M5_train, M5_valid, M5_test = load_data(filepath_train,filepath_valid,filepath_test)"
   ]
  },
  {
   "cell_type": "code",
   "execution_count": 7,
   "metadata": {},
   "outputs": [],
   "source": [
    "#C class flares\n",
    "filepath_train ='~/Downloads/C/normalized_training.csv'\n",
    "filepath_valid = '~/Downloads/C/normalized_validation.csv'\n",
    "filepath_test= '~/Downloads/C/normalized_testing.csv'\n",
    "C_train, C_valid, C_test = load_data(filepath_train,filepath_valid,filepath_test)"
   ]
  },
  {
   "cell_type": "markdown",
   "metadata": {},
   "source": [
    "## ARIMA"
   ]
  },
  {
   "cell_type": "code",
   "execution_count": 40,
   "metadata": {},
   "outputs": [],
   "source": [
    "def optimal_pqd(y_train):\n",
    "    model_autoARIMA = auto_arima(y_train, start_p=0, start_q=0,      \n",
    "                      test='adf'       ,# using adftest to find optimal 'd'\n",
    "                      max_p=5, max_q=5,# maximum p and q\n",
    "                      m=1,              # frequency of series\n",
    "                      d=None,           # let model determine 'd'\n",
    "                      seasonal=False,   # No Seasonality\n",
    "                      start_P=0, \n",
    "                      D=1, \n",
    "                      trace=True,\n",
    "                      error_action='ignore',  \n",
    "                      suppress_warnings=True, \n",
    "                      stepwise=True)\n",
    "\n",
    "    return model_autoARIMA"
   ]
  },
  {
   "cell_type": "code",
   "execution_count": 41,
   "metadata": {},
   "outputs": [
    {
     "name": "stdout",
     "output_type": "stream",
     "text": [
      "Performing stepwise search to minimize aic\n",
      " ARIMA(0,0,0)(0,0,0)[0]             : AIC=110396.646, Time=2.37 sec\n",
      " ARIMA(1,0,0)(0,0,0)[0]             : AIC=-131682.357, Time=1.38 sec\n",
      " ARIMA(0,0,1)(0,0,0)[0]             : AIC=20353.221, Time=5.67 sec\n",
      " ARIMA(2,0,0)(0,0,0)[0]             : AIC=-131680.499, Time=2.98 sec\n",
      " ARIMA(1,0,1)(0,0,0)[0]             : AIC=-131680.500, Time=2.86 sec\n",
      " ARIMA(2,0,1)(0,0,0)[0]             : AIC=-131678.390, Time=17.28 sec\n",
      " ARIMA(1,0,0)(0,0,0)[0] intercept   : AIC=-132024.302, Time=4.73 sec\n",
      " ARIMA(0,0,0)(0,0,0)[0] intercept   : AIC=89820.507, Time=10.77 sec\n",
      " ARIMA(2,0,0)(0,0,0)[0] intercept   : AIC=-132024.738, Time=8.42 sec\n",
      " ARIMA(3,0,0)(0,0,0)[0] intercept   : AIC=-132022.858, Time=11.97 sec\n",
      " ARIMA(2,0,1)(0,0,0)[0] intercept   : AIC=-132029.763, Time=79.58 sec\n",
      " ARIMA(1,0,1)(0,0,0)[0] intercept   : AIC=-132024.729, Time=31.88 sec\n",
      " ARIMA(3,0,1)(0,0,0)[0] intercept   : AIC=-132021.713, Time=103.45 sec\n",
      " ARIMA(2,0,2)(0,0,0)[0] intercept   : AIC=-132021.213, Time=37.51 sec\n",
      " ARIMA(1,0,2)(0,0,0)[0] intercept   : AIC=-132022.839, Time=40.27 sec\n",
      " ARIMA(3,0,2)(0,0,0)[0] intercept   : AIC=-132021.342, Time=70.09 sec\n",
      "\n",
      "Best model:  ARIMA(2,0,1)(0,0,0)[0] intercept\n",
      "Total fit time: 431.576 seconds\n"
     ]
    }
   ],
   "source": [
    "#result_m = optimal_pqd(M_train['label'])\n",
    "#result_m5 = optimal_pqd(M5_train['label'])\n",
    "result_c = optimal_pqd(C_train['label'])"
   ]
  },
  {
   "cell_type": "code",
   "execution_count": 74,
   "metadata": {},
   "outputs": [],
   "source": [
    "# Defining ARIMA model\n",
    "def arima(x_train, y_train,train_set,valid_set,test_set,x_test,x_valid,order): \n",
    "    pred=[]\n",
    "    prediction_1=[]\n",
    "    model1=ARIMA(endog=y_train,exog=x_train,order=order)\n",
    "    results=model1.fit()\n",
    "    #prediction for validation set\n",
    "    predictions = results.predict(start=len(train_set), end=len(train_set)+len(valid_set)-1 ,exog = x_valid)\n",
    "    #prediction for test\n",
    "    test_pred_1= results.predict(start=len(train_set), end=len(train_set)+len(test_set)-1 ,exog = x_test)\n",
    "    \n",
    "    #validation data\n",
    "    for i in predictions:\n",
    "        if i<=0:\n",
    "            pred.append(0)\n",
    "        else:\n",
    "            pred.append(1)\n",
    "    #test data\n",
    "    for i in test_pred_1:\n",
    "        if i<=0:\n",
    "            prediction_1.append(0)\n",
    "        else:\n",
    "            prediction_1.append(1)\n",
    "    \n",
    "    return (pred, prediction_1)\n",
    "   "
   ]
  },
  {
   "cell_type": "code",
   "execution_count": 6,
   "metadata": {},
   "outputs": [
    {
     "name": "stderr",
     "output_type": "stream",
     "text": [
      "/Users/shreysharma/opt/anaconda3/lib/python3.7/site-packages/statsmodels/tsa/base/tsa_model.py:218: ValueWarning: A date index has been provided, but it has no associated frequency information and so will be ignored when e.g. forecasting.\n",
      "  ' ignored when e.g. forecasting.', ValueWarning)\n",
      "/Users/shreysharma/opt/anaconda3/lib/python3.7/site-packages/statsmodels/tsa/base/tsa_model.py:222: ValueWarning: A date index has been provided, but it is not monotonic and so will be ignored when e.g. forecasting.\n",
      "  ' forecasting.', ValueWarning)\n",
      "/Users/shreysharma/opt/anaconda3/lib/python3.7/site-packages/statsmodels/tsa/base/tsa_model.py:583: ValueWarning: No supported index is available. Prediction results will be given with an integer index beginning at `start`.\n",
      "  ValueWarning)\n",
      "/Users/shreysharma/opt/anaconda3/lib/python3.7/site-packages/statsmodels/tsa/base/tsa_model.py:583: ValueWarning: No supported index is available. Prediction results will be given with an integer index beginning at `start`.\n",
      "  ValueWarning)\n"
     ]
    },
    {
     "name": "stdout",
     "output_type": "stream",
     "text": [
      "Accuracy: 0.43704906886261474\n",
      "F1 score: 0.13420089467263116\n",
      "Recall: 0.8574610244988864\n",
      "Precision: 0.07279717635194756\n",
      "-------------------------------\n",
      "\n",
      "Test Accuracy: 0.5201951263174383\n",
      "Test F1 score: 0.0938979039891819\n",
      "Test Recall: 0.8693270735524257\n",
      "Test Precision: 0.049629232556061824\n"
     ]
    }
   ],
   "source": [
    "# M class\n",
    "from sklearn.metrics import precision_score, recall_score, accuracy_score, f1_score\n",
    "\n",
    "pred, prediction_1 = arima(M_train.loc[:,'TOTUSJH':'MEANGBT'], M_train['label'],M_train,M_valid,\n",
    "                          M_test,M_test.loc[:,'TOTUSJH':'MEANGBT'],M_valid.loc[:,'TOTUSJH':'MEANGBT'],[3,0,0]) \n",
    "#validation set\n",
    "print ('Accuracy:', accuracy_score(M_valid['label'], pred))\n",
    "print ('F1 score:', f1_score(M_valid['label'], pred))\n",
    "print ('Recall:', recall_score(M_valid['label'], pred))\n",
    "print ('Precision:', precision_score(M_valid['label'], pred))\n",
    "print('-------------------------------\\n')\n",
    "#test set\n",
    "print ('Test Accuracy:', accuracy_score(M_test['label'], prediction_1))\n",
    "print ('Test F1 score:', f1_score(M_test['label'], prediction_1))\n",
    "print ('Test Recall:', recall_score(M_test['label'], prediction_1))\n",
    "print ('Test Precision:', precision_score(M_test['label'], prediction_1))"
   ]
  },
  {
   "cell_type": "code",
   "execution_count": 11,
   "metadata": {},
   "outputs": [
    {
     "name": "stderr",
     "output_type": "stream",
     "text": [
      "/Users/shreysharma/opt/anaconda3/lib/python3.7/site-packages/statsmodels/tsa/base/tsa_model.py:218: ValueWarning: A date index has been provided, but it has no associated frequency information and so will be ignored when e.g. forecasting.\n",
      "  ' ignored when e.g. forecasting.', ValueWarning)\n",
      "/Users/shreysharma/opt/anaconda3/lib/python3.7/site-packages/statsmodels/tsa/base/tsa_model.py:222: ValueWarning: A date index has been provided, but it is not monotonic and so will be ignored when e.g. forecasting.\n",
      "  ' forecasting.', ValueWarning)\n",
      "/Users/shreysharma/opt/anaconda3/lib/python3.7/site-packages/statsmodels/tsa/base/tsa_model.py:583: ValueWarning: No supported index is available. Prediction results will be given with an integer index beginning at `start`.\n",
      "  ValueWarning)\n",
      "/Users/shreysharma/opt/anaconda3/lib/python3.7/site-packages/statsmodels/tsa/base/tsa_model.py:583: ValueWarning: No supported index is available. Prediction results will be given with an integer index beginning at `start`.\n",
      "  ValueWarning)\n"
     ]
    },
    {
     "name": "stdout",
     "output_type": "stream",
     "text": [
      "Accuracy: 0.5645374532542591\n",
      "F1 score: 0.04316069057104914\n",
      "Recall: 0.8904109589041096\n",
      "Precision: 0.022116366110922082\n",
      "-------------------------------\n",
      "\n",
      "Test Accuracy: 0.6907740159770861\n",
      "Test F1 score: 0.019859564508121142\n",
      "Test Recall: 0.7777777777777778\n",
      "Test Precision: 0.010058193835764064\n"
     ]
    }
   ],
   "source": [
    "# M5 class\n",
    "pred, prediction_1 = arima(M5_train.loc[:,'TOTUSJH':'MEANGBT'], M5_train['label'],M5_train,M5_valid,\n",
    "                          M5_test,M5_test.loc[:,'TOTUSJH':'MEANGBT'],M5_valid.loc[:,'TOTUSJH':'MEANGBT'],[1,0,0]) \n",
    "#validation set\n",
    "print ('Accuracy:', accuracy_score(M5_valid['label'], pred))\n",
    "print ('F1 score:', f1_score(M5_valid['label'], pred))\n",
    "print ('Recall:', recall_score(M5_valid['label'], pred))\n",
    "print ('Precision:', precision_score(M5_valid['label'], pred))\n",
    "print('-------------------------------\\n')\n",
    "#test set\n",
    "print ('Test Accuracy:', accuracy_score(M5_test['label'], prediction_1))\n",
    "print ('Test F1 score:', f1_score(M5_test['label'], prediction_1))\n",
    "print ('Test Recall:', recall_score(M5_test['label'], prediction_1))\n",
    "print ('Test Precision:', precision_score(M5_test['label'], prediction_1))"
   ]
  },
  {
   "cell_type": "code",
   "execution_count": null,
   "metadata": {},
   "outputs": [
    {
     "name": "stderr",
     "output_type": "stream",
     "text": [
      "/Users/shreysharma/opt/anaconda3/lib/python3.7/site-packages/statsmodels/tsa/base/tsa_model.py:218: ValueWarning: A date index has been provided, but it has no associated frequency information and so will be ignored when e.g. forecasting.\n",
      "  ' ignored when e.g. forecasting.', ValueWarning)\n",
      "/Users/shreysharma/opt/anaconda3/lib/python3.7/site-packages/statsmodels/tsa/base/tsa_model.py:222: ValueWarning: A date index has been provided, but it is not monotonic and so will be ignored when e.g. forecasting.\n",
      "  ' forecasting.', ValueWarning)\n"
     ]
    }
   ],
   "source": [
    "# C class\n",
    "pred, prediction_1 = arima(C_train.loc[:,'TOTUSJH':'MEANGBT'], C_train['label'],C_train,C_valid,\n",
    "                          C_test,C_test.loc[:,'TOTUSJH':'MEANGBT'],C_valid.loc[:,'TOTUSJH':'MEANGBT'],[2,0,2]) \n",
    "#validation set\n",
    "print ('Accuracy:', accuracy_score(C_valid['label'], pred))\n",
    "print ('F1 score:', f1_score(C_valid['label'], pred))\n",
    "print ('Recall:', recall_score(C_valid['label'], pred))\n",
    "print ('Precision:', precision_score(C_valid['label'], pred))\n",
    "print('-------------------------------\\n')\n",
    "#test set\n",
    "print ('Test Accuracy:', accuracy_score(C_test['label'], prediction_1))\n",
    "print ('Test F1 score:', f1_score(C_test['label'], prediction_1))\n",
    "print ('Test Recall:', recall_score(C_test['label'], prediction_1))\n",
    "print ('Test Precision:', precision_score(C_test['label'], prediction_1))"
   ]
  },
  {
   "cell_type": "markdown",
   "metadata": {},
   "source": [
    "## AR model"
   ]
  },
  {
   "cell_type": "code",
   "execution_count": 20,
   "metadata": {},
   "outputs": [],
   "source": [
    "from math import sqrt\n",
    "from statsmodels.tsa.ar_model import AutoReg\n",
    "\n",
    "def auto_reg(y_train,x_train,train_set,valid_set,test_set,x_test,x_valid):\n",
    "    pred_2=[]\n",
    "    prediction_2=[]\n",
    "   # train autoregression\n",
    "    model2 = AutoReg(endog=y_train,exog=x_train,lags=1).fit()\n",
    "    # make validation predictions\n",
    "    prediction = model2.predict(start=len(train_set),end=len(train_set)+len(valid_set)-1,\n",
    "                            exog_oos= x_valid,dynamic=False)\n",
    "    #test predictions\n",
    "    test_pred_2= model2.predict(start=len(train_set),end=len(train_set)+len(test_set)-1,\n",
    "                                exog_oos= x_test,dynamic=False)\n",
    "    \n",
    "   #validation\n",
    "    for i in prediction:\n",
    "        if i <= 0.05:\n",
    "            pred_2.append(0)\n",
    "        else:\n",
    "            pred_2.append(1)\n",
    "    #test\n",
    "    for i in test_pred_2:\n",
    "        if i <= 0.05:\n",
    "            prediction_2.append(0)\n",
    "        else:\n",
    "            prediction_2.append(1)\n",
    "    return (pred_2, prediction_2)"
   ]
  },
  {
   "cell_type": "code",
   "execution_count": 22,
   "metadata": {},
   "outputs": [
    {
     "name": "stderr",
     "output_type": "stream",
     "text": [
      "/Users/shreysharma/opt/anaconda3/lib/python3.7/site-packages/statsmodels/tsa/base/tsa_model.py:218: ValueWarning: A date index has been provided, but it has no associated frequency information and so will be ignored when e.g. forecasting.\n",
      "  ' ignored when e.g. forecasting.', ValueWarning)\n",
      "/Users/shreysharma/opt/anaconda3/lib/python3.7/site-packages/statsmodels/tsa/base/tsa_model.py:222: ValueWarning: A date index has been provided, but it is not monotonic and so will be ignored when e.g. forecasting.\n",
      "  ' forecasting.', ValueWarning)\n",
      "/Users/shreysharma/opt/anaconda3/lib/python3.7/site-packages/statsmodels/tsa/base/tsa_model.py:583: ValueWarning: No supported index is available. Prediction results will be given with an integer index beginning at `start`.\n",
      "  ValueWarning)\n",
      "/Users/shreysharma/opt/anaconda3/lib/python3.7/site-packages/statsmodels/tsa/base/tsa_model.py:583: ValueWarning: No supported index is available. Prediction results will be given with an integer index beginning at `start`.\n",
      "  ValueWarning)\n"
     ]
    },
    {
     "name": "stdout",
     "output_type": "stream",
     "text": [
      "Accuracy: 0.6826955766252408\n",
      "F1 score: 0.19786096256684488\n",
      "Recall: 0.7691165553080921\n",
      "Precision: 0.11353424657534246\n",
      "-------------------------------\n",
      "\n",
      "Test Accuracy: 0.7920964890688984\n",
      "Test F1 score: 0.1708165997322624\n",
      "Test Recall: 0.7488262910798122\n",
      "Test Precision: 0.09640374735569658\n"
     ]
    }
   ],
   "source": [
    "from sklearn.metrics import precision_score, recall_score, accuracy_score, f1_score\n",
    "# M class\n",
    "pred_2,prediction_2 = auto_reg( M_train['label'],M_train.loc[:,'TOTUSJH':'MEANGBT'],M_train,M_valid,\n",
    "                          M_test,M_test.loc[:,'TOTUSJH':'MEANGBT'],M_valid.loc[:,'TOTUSJH':'MEANGBT'])\n",
    "print ('Accuracy:', accuracy_score(M_valid['label'], pred_2))\n",
    "print ('F1 score:', f1_score(M_valid['label'], pred_2))\n",
    "print ('Recall:', recall_score(M_valid['label'], pred_2))\n",
    "print ('Precision:', precision_score(M_valid['label'], pred_2))\n",
    "print('-------------------------------\\n')\n",
    "#test set\n",
    "print ('Test Accuracy:', accuracy_score(M_test['label'], prediction_2))\n",
    "print ('Test F1 score:', f1_score(M_test['label'], prediction_2))\n",
    "print ('Test Recall:', recall_score(M_test['label'], prediction_2))\n",
    "print ('Test Precision:', precision_score(M_test['label'], prediction_2))"
   ]
  },
  {
   "cell_type": "code",
   "execution_count": 21,
   "metadata": {},
   "outputs": [
    {
     "name": "stderr",
     "output_type": "stream",
     "text": [
      "/Users/shreysharma/opt/anaconda3/lib/python3.7/site-packages/statsmodels/tsa/base/tsa_model.py:218: ValueWarning: A date index has been provided, but it has no associated frequency information and so will be ignored when e.g. forecasting.\n",
      "  ' ignored when e.g. forecasting.', ValueWarning)\n",
      "/Users/shreysharma/opt/anaconda3/lib/python3.7/site-packages/statsmodels/tsa/base/tsa_model.py:222: ValueWarning: A date index has been provided, but it is not monotonic and so will be ignored when e.g. forecasting.\n",
      "  ' forecasting.', ValueWarning)\n",
      "/Users/shreysharma/opt/anaconda3/lib/python3.7/site-packages/statsmodels/tsa/base/tsa_model.py:583: ValueWarning: No supported index is available. Prediction results will be given with an integer index beginning at `start`.\n",
      "  ValueWarning)\n",
      "/Users/shreysharma/opt/anaconda3/lib/python3.7/site-packages/statsmodels/tsa/base/tsa_model.py:583: ValueWarning: No supported index is available. Prediction results will be given with an integer index beginning at `start`.\n",
      "  ValueWarning)\n"
     ]
    },
    {
     "name": "stdout",
     "output_type": "stream",
     "text": [
      "Accuracy: 0.8857326332489707\n",
      "F1 score: 0.12344248044045204\n",
      "Recall: 0.7294520547945206\n",
      "Precision: 0.06742640075973409\n",
      "-------------------------------\n",
      "\n",
      "Test Accuracy: 0.9328470093311553\n",
      "Test F1 score: 0.0671433012123096\n",
      "Test Recall: 0.6\n",
      "Test Precision: 0.035561409285479094\n"
     ]
    }
   ],
   "source": [
    "# M5 class\n",
    "from sklearn.metrics import precision_score, recall_score, accuracy_score, f1_score\n",
    "\n",
    "pred_2,prediction_2 = auto_reg( M5_train['label'],M5_train.loc[:,'TOTUSJH':'MEANGBT'],M5_train,M_valid,\n",
    "                          M5_test,M5_test.loc[:,'TOTUSJH':'MEANGBT'],M5_valid.loc[:,'TOTUSJH':'MEANGBT'])\n",
    "print ('Accuracy:', accuracy_score(M5_valid['label'], pred_2))\n",
    "print ('F1 score:', f1_score(M5_valid['label'], pred_2))\n",
    "print ('Recall:', recall_score(M5_valid['label'], pred_2))\n",
    "print ('Precision:', precision_score(M5_valid['label'], pred_2))\n",
    "print('-------------------------------\\n')\n",
    "#test set\n",
    "print ('Test Accuracy:', accuracy_score(M5_test['label'], prediction_2))\n",
    "print ('Test F1 score:', f1_score(M5_test['label'], prediction_2))\n",
    "print ('Test Recall:', recall_score(M5_test['label'], prediction_2))\n",
    "print ('Test Precision:', precision_score(M5_test['label'], prediction_2))"
   ]
  },
  {
   "cell_type": "code",
   "execution_count": 23,
   "metadata": {},
   "outputs": [
    {
     "name": "stderr",
     "output_type": "stream",
     "text": [
      "/Users/shreysharma/opt/anaconda3/lib/python3.7/site-packages/statsmodels/tsa/base/tsa_model.py:218: ValueWarning: A date index has been provided, but it has no associated frequency information and so will be ignored when e.g. forecasting.\n",
      "  ' ignored when e.g. forecasting.', ValueWarning)\n",
      "/Users/shreysharma/opt/anaconda3/lib/python3.7/site-packages/statsmodels/tsa/base/tsa_model.py:222: ValueWarning: A date index has been provided, but it is not monotonic and so will be ignored when e.g. forecasting.\n",
      "  ' forecasting.', ValueWarning)\n",
      "/Users/shreysharma/opt/anaconda3/lib/python3.7/site-packages/statsmodels/tsa/base/tsa_model.py:583: ValueWarning: No supported index is available. Prediction results will be given with an integer index beginning at `start`.\n",
      "  ValueWarning)\n",
      "/Users/shreysharma/opt/anaconda3/lib/python3.7/site-packages/statsmodels/tsa/base/tsa_model.py:583: ValueWarning: No supported index is available. Prediction results will be given with an integer index beginning at `start`.\n",
      "  ValueWarning)\n"
     ]
    },
    {
     "name": "stdout",
     "output_type": "stream",
     "text": [
      "Accuracy: 0.36429569750311636\n",
      "F1 score: 0.43728892901327443\n",
      "Recall: 0.9268603827072998\n",
      "Precision: 0.28614563276737265\n",
      "-------------------------------\n",
      "\n",
      "Test Accuracy: 0.3132090671082369\n",
      "Test F1 score: 0.3410340089316386\n",
      "Test Recall: 0.9095281722400367\n",
      "Test Precision: 0.20986153683542966\n"
     ]
    }
   ],
   "source": [
    "# C class\n",
    "from sklearn.metrics import precision_score, recall_score, accuracy_score, f1_score\n",
    "# M class\n",
    "pred_2,prediction_2 = auto_reg(C_train['label'],C_train.loc[:,'TOTUSJH':'MEANGBT'],C_train,C_valid,\n",
    "                          C_test,C_test.loc[:,'TOTUSJH':'MEANGBT'],C_valid.loc[:,'TOTUSJH':'MEANGBT'])\n",
    "\n",
    "print ('Accuracy:', accuracy_score(C_valid['label'], pred_2))\n",
    "print ('F1 score:', f1_score(C_valid['label'], pred_2))\n",
    "print ('Recall:', recall_score(C_valid['label'], pred_2))\n",
    "print ('Precision:', precision_score(C_valid['label'], pred_2))\n",
    "print('-------------------------------\\n')\n",
    "#test set\n",
    "print ('Test Accuracy:', accuracy_score(C_test['label'], prediction_2))\n",
    "print ('Test F1 score:', f1_score(C_test['label'], prediction_2))\n",
    "print ('Test Recall:', recall_score(C_test['label'], prediction_2))\n",
    "print ('Test Precision:', precision_score(C_test['label'], prediction_2))"
   ]
  },
  {
   "cell_type": "markdown",
   "metadata": {},
   "source": [
    "## VAR"
   ]
  },
  {
   "cell_type": "code",
   "execution_count": 14,
   "metadata": {},
   "outputs": [],
   "source": [
    "from statsmodels.tsa.api import VAR\n",
    "\n",
    "def order(train):\n",
    "    model3 = VAR(train[list(train.loc[:,'TOTUSJH':'MEANGBT'])+['label']])\n",
    "    x = model3.select_order(maxlags=35)\n",
    "    return x.summary()"
   ]
  },
  {
   "cell_type": "code",
   "execution_count": 15,
   "metadata": {},
   "outputs": [
    {
     "name": "stderr",
     "output_type": "stream",
     "text": [
      "/Users/shreysharma/opt/anaconda3/lib/python3.7/site-packages/statsmodels/tsa/base/tsa_model.py:218: ValueWarning: A date index has been provided, but it has no associated frequency information and so will be ignored when e.g. forecasting.\n",
      "  ' ignored when e.g. forecasting.', ValueWarning)\n",
      "/Users/shreysharma/opt/anaconda3/lib/python3.7/site-packages/statsmodels/tsa/base/tsa_model.py:222: ValueWarning: A date index has been provided, but it is not monotonic and so will be ignored when e.g. forecasting.\n",
      "  ' forecasting.', ValueWarning)\n"
     ]
    },
    {
     "name": "stdout",
     "output_type": "stream",
     "text": [
      "For M-class solar flares\n",
      "  VAR Order Selection (* highlights the minimums)  \n",
      "==================================================\n",
      "       AIC         BIC         FPE         HQIC   \n",
      "--------------------------------------------------\n",
      "0       -93.80      -93.79   1.840e-41      -93.80\n",
      "1       -155.7      -155.6   2.461e-68      -155.7\n",
      "2       -156.1      -156.0   1.629e-68      -156.0\n",
      "3       -156.3      -156.1   1.282e-68      -156.3\n",
      "4       -156.5      -156.2   1.084e-68      -156.4\n",
      "5       -156.6     -156.3*   9.976e-69      -156.5\n",
      "6       -156.6      -156.2   9.537e-69      -156.5\n",
      "7       -156.7      -156.2   9.009e-69      -156.5\n",
      "8       -156.7      -156.2   8.596e-69      -156.6\n",
      "9       -156.8      -156.2   8.230e-69      -156.6\n",
      "10      -156.8      -156.2   7.985e-69      -156.6\n",
      "11      -156.8      -156.1   7.743e-69      -156.6\n",
      "12      -156.9      -156.1   7.446e-69      -156.6\n",
      "13      -156.9      -156.1   7.246e-69      -156.6\n",
      "14      -156.9      -156.0   7.094e-69      -156.6\n",
      "15      -156.9      -156.0   6.882e-69      -156.7\n",
      "16      -157.0      -155.9   6.739e-69      -156.7\n",
      "17      -157.0      -155.9   6.484e-69      -156.7\n",
      "18      -157.0      -155.9   6.293e-69      -156.7\n",
      "19      -157.1      -155.9   6.026e-69      -156.7\n",
      "20      -157.1      -155.9   5.697e-69      -156.7\n",
      "21      -157.2      -155.9   5.239e-69      -156.8\n",
      "22      -157.4      -156.0   4.408e-69      -157.0\n",
      "23      -157.5      -156.0   3.939e-69      -157.1\n",
      "24      -157.6      -156.1   3.576e-69      -157.1\n",
      "25      -157.7      -156.1   3.226e-69      -157.2\n",
      "26      -157.7      -156.1   3.143e-69     -157.2*\n",
      "27      -157.7      -156.0   3.118e-69      -157.2\n",
      "28      -157.7      -156.0   3.092e-69      -157.2\n",
      "29      -157.8      -155.9   3.072e-69      -157.2\n",
      "30      -157.8      -155.9   3.049e-69      -157.2\n",
      "31      -157.8      -155.8   3.038e-69      -157.2\n",
      "32      -157.8      -155.7   3.020e-69      -157.1\n",
      "33      -157.8      -155.7   3.012e-69      -157.1\n",
      "34      -157.8      -155.6   3.004e-69      -157.1\n",
      "35     -157.8*      -155.6  2.993e-69*      -157.1\n",
      "--------------------------------------------------\n"
     ]
    },
    {
     "name": "stderr",
     "output_type": "stream",
     "text": [
      "/Users/shreysharma/opt/anaconda3/lib/python3.7/site-packages/statsmodels/tsa/base/tsa_model.py:218: ValueWarning: A date index has been provided, but it has no associated frequency information and so will be ignored when e.g. forecasting.\n",
      "  ' ignored when e.g. forecasting.', ValueWarning)\n",
      "/Users/shreysharma/opt/anaconda3/lib/python3.7/site-packages/statsmodels/tsa/base/tsa_model.py:222: ValueWarning: A date index has been provided, but it is not monotonic and so will be ignored when e.g. forecasting.\n",
      "  ' forecasting.', ValueWarning)\n"
     ]
    },
    {
     "name": "stdout",
     "output_type": "stream",
     "text": [
      "For M5-class\n",
      "  VAR Order Selection (* highlights the minimums)  \n",
      "==================================================\n",
      "       AIC         BIC         FPE         HQIC   \n",
      "--------------------------------------------------\n",
      "0       -90.67      -90.67   4.174e-40      -90.67\n",
      "1       -150.0      -150.0   6.885e-66      -150.0\n",
      "2       -150.4      -150.3   4.729e-66      -150.4\n",
      "3       -150.6      -150.4   3.840e-66      -150.6\n",
      "4       -150.8      -150.6   3.260e-66      -150.7\n",
      "5       -150.9     -150.6*   3.000e-66      -150.8\n",
      "6       -150.9      -150.6   2.866e-66      -150.8\n",
      "7       -151.0      -150.6   2.707e-66      -150.8\n",
      "8       -151.0      -150.6   2.582e-66      -150.9\n",
      "9       -151.1      -150.5   2.470e-66      -150.9\n",
      "10      -151.1      -150.5   2.395e-66      -150.9\n",
      "11      -151.1      -150.5   2.337e-66      -150.9\n",
      "12      -151.2      -150.5   2.259e-66      -150.9\n",
      "13      -151.2      -150.4   2.204e-66      -150.9\n",
      "14      -151.2      -150.4   2.160e-66      -150.9\n",
      "15      -151.2      -150.4   2.093e-66      -151.0\n",
      "16      -151.3      -150.3   2.051e-66      -151.0\n",
      "17      -151.3      -150.3   1.977e-66      -151.0\n",
      "18      -151.3      -150.3   1.918e-66      -151.0\n",
      "19      -151.4      -150.2   1.842e-66      -151.0\n",
      "20      -151.4      -150.2   1.749e-66      -151.1\n",
      "21      -151.5      -150.3   1.620e-66      -151.1\n",
      "22      -151.6      -150.4   1.388e-66      -151.2\n",
      "23      -151.8      -150.4   1.225e-66      -151.4\n",
      "24      -151.9      -150.4   1.127e-66      -151.4\n",
      "25      -151.9      -150.5   1.040e-66      -151.5\n",
      "26      -152.0      -150.4   1.014e-66     -151.5*\n",
      "27      -152.0      -150.4   1.008e-66      -151.5\n",
      "28      -152.0      -150.3   9.975e-67      -151.5\n",
      "29      -152.0      -150.3   9.916e-67      -151.5\n",
      "30      -152.0      -150.2   9.824e-67      -151.5\n",
      "31      -152.0      -150.2   9.763e-67      -151.4\n",
      "32      -152.0      -150.1   9.707e-67      -151.4\n",
      "33      -152.0      -150.1   9.663e-67      -151.4\n",
      "34     -152.0*      -150.0  9.635e-67*      -151.4\n",
      "35      -152.0      -150.0   9.640e-67      -151.4\n",
      "--------------------------------------------------\n"
     ]
    },
    {
     "name": "stderr",
     "output_type": "stream",
     "text": [
      "/Users/shreysharma/opt/anaconda3/lib/python3.7/site-packages/statsmodels/tsa/base/tsa_model.py:218: ValueWarning: A date index has been provided, but it has no associated frequency information and so will be ignored when e.g. forecasting.\n",
      "  ' ignored when e.g. forecasting.', ValueWarning)\n",
      "/Users/shreysharma/opt/anaconda3/lib/python3.7/site-packages/statsmodels/tsa/base/tsa_model.py:222: ValueWarning: A date index has been provided, but it is not monotonic and so will be ignored when e.g. forecasting.\n",
      "  ' forecasting.', ValueWarning)\n"
     ]
    },
    {
     "name": "stdout",
     "output_type": "stream",
     "text": [
      "For C-class\n",
      "  VAR Order Selection (* highlights the minimums)  \n",
      "==================================================\n",
      "       AIC         BIC         FPE         HQIC   \n",
      "--------------------------------------------------\n",
      "0       -76.64      -76.64   5.195e-34      -76.64\n",
      "1       -142.6      -142.5   1.228e-62      -142.5\n",
      "2       -143.0      -142.8   8.146e-63      -142.9\n",
      "3       -143.2      -143.0   6.523e-63      -143.1\n",
      "4       -143.3      -143.1   5.623e-63      -143.3\n",
      "5       -143.4     -143.1*   5.262e-63      -143.3\n",
      "6       -143.4      -143.1   5.083e-63      -143.3\n",
      "7       -143.5      -143.0   4.853e-63      -143.3\n",
      "8       -143.5      -143.0   4.690e-63      -143.4\n",
      "9       -143.5      -143.0   4.596e-63      -143.4\n",
      "10      -143.6      -142.9   4.506e-63      -143.4\n",
      "11      -143.6      -142.9   4.454e-63      -143.4\n",
      "12      -143.6      -142.8   4.391e-63      -143.3\n",
      "13      -143.6      -142.8   4.337e-63      -143.3\n",
      "14      -143.6      -142.7   4.299e-63      -143.3\n",
      "15      -143.6      -142.7   4.264e-63      -143.3\n",
      "16      -143.6      -142.6   4.207e-63      -143.3\n",
      "17      -143.6      -142.6   4.111e-63      -143.3\n",
      "18      -143.7      -142.5   4.036e-63      -143.3\n",
      "19      -143.7      -142.5   3.928e-63      -143.3\n",
      "20      -143.7      -142.5   3.802e-63      -143.3\n",
      "21      -143.8      -142.4   3.632e-63      -143.4\n",
      "22      -143.9      -142.5   3.272e-63      -143.4\n",
      "23      -144.0      -142.5   2.907e-63      -143.5\n",
      "24      -144.1      -142.6   2.653e-63      -143.6\n",
      "25      -144.2      -142.6   2.370e-63     -143.7*\n",
      "26      -144.2      -142.6   2.327e-63      -143.7\n",
      "27      -144.2      -142.5   2.323e-63      -143.7\n",
      "28      -144.2      -142.4   2.317e-63      -143.7\n",
      "29      -144.2      -142.4   2.315e-63      -143.7\n",
      "30     -144.2*      -142.3  2.312e-63*      -143.6\n",
      "31      -144.2      -142.2   2.316e-63      -143.6\n",
      "32      -144.2      -142.2   2.317e-63      -143.6\n",
      "33      -144.2      -142.1   2.324e-63      -143.6\n",
      "34      -144.2      -142.0   2.330e-63      -143.6\n",
      "35      -144.2      -142.0   2.339e-63      -143.5\n",
      "--------------------------------------------------\n"
     ]
    }
   ],
   "source": [
    "x1 = order(M_train)\n",
    "print('For M-class solar flares\\n',x1)\n",
    "x2 = order(M5_train)\n",
    "print('For M5-class\\n',x2)\n",
    "x3 = order(C_train)\n",
    "print('For C-class\\n',x3)"
   ]
  },
  {
   "cell_type": "code",
   "execution_count": 30,
   "metadata": {},
   "outputs": [],
   "source": [
    "def vector_ar(train,valid,test,lags):\n",
    "    pred_3=[]\n",
    "    predictions_3=[]\n",
    "    \n",
    "    model3 = VAR(train[list(train.loc[:,'TOTUSJH':'MEANGBT'])+['label']])\n",
    "    model_fitted = model3.fit(lags)\n",
    "    model_fitted.summary()\n",
    "    # Get the lag order\n",
    "    lag_order = model_fitted.k_ar\n",
    "    print(f'Lag order {lag_order}\\n')\n",
    "\n",
    "    # Input data for forecasting\n",
    "    forecast_input =valid[list(valid.loc[:,'TOTUSJH':'MEANGBT'])+['label']].values[-lag_order:]\n",
    "    test_forecast_input = test[list(test.loc[:,'TOTUSJH':'MEANGBT'])+['label']].values[-lag_order:]\n",
    "    \n",
    "    # Forecast on validation set\n",
    "    fc = model_fitted.forecast(y=forecast_input, steps=len(valid))\n",
    "    df_forecast = pd.DataFrame(fc, index=valid.index[0:len(valid)])\n",
    "    df_forecast= df_forecast.rename(columns={0:'label'})\n",
    "    \n",
    "    # Test Forecast\n",
    "    fc = model_fitted.forecast(y=test_forecast_input, steps=len(test))\n",
    "    test_forecast = pd.DataFrame(fc, index=test.index[0:len(test)])\n",
    "    test_forecast= test_forecast.rename(columns={0:'label'})\n",
    "    \n",
    "    #predictions for validation set\n",
    "\n",
    "    for i in df_forecast['label'].values:\n",
    "        if i<=0.212:\n",
    "            pred_3.append(0)\n",
    "        else:\n",
    "            pred_3.append(1)\n",
    "    \n",
    "    #predictions for test set\n",
    "    \n",
    "    for i in test_forecast['label'].values:\n",
    "        if i<=0.212:\n",
    "            predictions_3.append(0)\n",
    "        else:\n",
    "            predictions_3.append(1)\n",
    "    \n",
    "    return (pred_3, predictions_3) "
   ]
  },
  {
   "cell_type": "code",
   "execution_count": 25,
   "metadata": {},
   "outputs": [
    {
     "name": "stderr",
     "output_type": "stream",
     "text": [
      "/Users/shreysharma/opt/anaconda3/lib/python3.7/site-packages/statsmodels/tsa/base/tsa_model.py:218: ValueWarning: A date index has been provided, but it has no associated frequency information and so will be ignored when e.g. forecasting.\n",
      "  ' ignored when e.g. forecasting.', ValueWarning)\n",
      "/Users/shreysharma/opt/anaconda3/lib/python3.7/site-packages/statsmodels/tsa/base/tsa_model.py:222: ValueWarning: A date index has been provided, but it is not monotonic and so will be ignored when e.g. forecasting.\n",
      "  ' forecasting.', ValueWarning)\n"
     ]
    },
    {
     "name": "stdout",
     "output_type": "stream",
     "text": [
      "Lag order 35\n",
      "\n",
      "Accuracy: 0.9376723454085294\n",
      "F1 score: 0.04513888888888889\n",
      "Recall: 0.028953229398663696\n",
      "Precision: 0.10236220472440945\n",
      "-------------------------------\n",
      "\n",
      "Test Accuracy: 0.9663004318736155\n",
      "Test F1 score: 0.02207792207792208\n",
      "Test Recall: 0.013302034428794992\n",
      "Test Precision: 0.0648854961832061\n"
     ]
    }
   ],
   "source": [
    "#M-class\n",
    "pred_3, predictions_3= vector_ar(M_train,M_valid,M_test,35)\n",
    "#validation data\n",
    "print ('Accuracy:', accuracy_score(M_valid['label'], pred_3))\n",
    "print ('F1 score:', f1_score(M_valid['label'], pred_3))\n",
    "print ('Recall:', recall_score(M_valid['label'], pred_3))\n",
    "print ('Precision:', precision_score(M_valid['label'], pred_3))\n",
    "print('-------------------------------\\n')\n",
    "#test data\n",
    "print ('Test Accuracy:', accuracy_score(M_test['label'], predictions_3))\n",
    "print ('Test F1 score:', f1_score(M_test['label'], predictions_3))\n",
    "print ('Test Recall:', recall_score(M_test['label'], predictions_3))\n",
    "print ('Test Precision:', precision_score(M_test['label'], predictions_3))"
   ]
  },
  {
   "cell_type": "code",
   "execution_count": 31,
   "metadata": {},
   "outputs": [
    {
     "name": "stderr",
     "output_type": "stream",
     "text": [
      "/Users/shreysharma/opt/anaconda3/lib/python3.7/site-packages/statsmodels/tsa/base/tsa_model.py:218: ValueWarning: A date index has been provided, but it has no associated frequency information and so will be ignored when e.g. forecasting.\n",
      "  ' ignored when e.g. forecasting.', ValueWarning)\n",
      "/Users/shreysharma/opt/anaconda3/lib/python3.7/site-packages/statsmodels/tsa/base/tsa_model.py:222: ValueWarning: A date index has been provided, but it is not monotonic and so will be ignored when e.g. forecasting.\n",
      "  ' forecasting.', ValueWarning)\n"
     ]
    },
    {
     "name": "stdout",
     "output_type": "stream",
     "text": [
      "Lag order 34\n",
      "\n",
      "Accuracy: 0.9723491859630568\n",
      "F1 score: 0.07341772151898733\n",
      "Recall: 0.09931506849315068\n",
      "Precision: 0.05823293172690763\n",
      "-------------------------------\n",
      "\n",
      "Test Accuracy: 0.9882968963279555\n",
      "Test F1 score: 0.0\n",
      "Test Recall: 0.0\n",
      "Test Precision: 0.0\n"
     ]
    }
   ],
   "source": [
    "from sklearn.metrics import precision_score, recall_score, accuracy_score, f1_score\n",
    "#M5-class\n",
    "pred_3, predict_3= vector_ar(M5_train,M5_valid,M5_test,34)\n",
    "#validation data\n",
    "print ('Accuracy:', accuracy_score(M5_valid['label'], pred_3))\n",
    "print ('F1 score:', f1_score(M5_valid['label'], pred_3))\n",
    "print ('Recall:', recall_score(M5_valid['label'], pred_3))\n",
    "print ('Precision:', precision_score(M5_valid['label'], pred_3))\n",
    "print('-------------------------------\\n')\n",
    "#test data\n",
    "print ('Test Accuracy:', accuracy_score(M5_test['label'], predict_3))\n",
    "print ('Test F1 score:', f1_score(M5_test['label'], predict_3))\n",
    "print ('Test Recall:', recall_score(M5_test['label'], predict_3))\n",
    "print ('Test Precision:', precision_score(M5_test['label'], predict_3))"
   ]
  },
  {
   "cell_type": "code",
   "execution_count": 23,
   "metadata": {},
   "outputs": [
    {
     "name": "stderr",
     "output_type": "stream",
     "text": [
      "/Users/shreysharma/opt/anaconda3/lib/python3.7/site-packages/statsmodels/tsa/base/tsa_model.py:218: ValueWarning: A date index has been provided, but it has no associated frequency information and so will be ignored when e.g. forecasting.\n",
      "  ' ignored when e.g. forecasting.', ValueWarning)\n",
      "/Users/shreysharma/opt/anaconda3/lib/python3.7/site-packages/statsmodels/tsa/base/tsa_model.py:222: ValueWarning: A date index has been provided, but it is not monotonic and so will be ignored when e.g. forecasting.\n",
      "  ' forecasting.', ValueWarning)\n"
     ]
    },
    {
     "name": "stdout",
     "output_type": "stream",
     "text": [
      "Lag order 30\n",
      "\n",
      "Accuracy: 0.7268537755448948\n",
      "F1 score: 0.030307094005632293\n",
      "Recall: 0.016017009213323885\n",
      "Precision: 0.2810945273631841\n",
      "-------------------------------\n",
      "\n",
      "Test Accuracy: 0.8023450961086621\n",
      "Test F1 score: 0.017354544443208365\n",
      "Test Recall: 0.008932661475034357\n",
      "Test Precision: 0.3035019455252918\n"
     ]
    }
   ],
   "source": [
    "#C-class\n",
    "pred_3, predictions_3= vector_ar(C_train,C_valid,C_test,30)\n",
    "#validation data\n",
    "print ('Accuracy:', accuracy_score(C_valid['label'], pred_3))\n",
    "print ('F1 score:', f1_score(C_valid['label'], pred_3))\n",
    "print ('Recall:', recall_score(C_valid['label'], pred_3))\n",
    "print ('Precision:', precision_score(C_valid['label'], pred_3))\n",
    "print('-------------------------------\\n')\n",
    "#test data\n",
    "print ('Test Accuracy:', accuracy_score(C_test['label'], predictions_3))\n",
    "print ('Test F1 score:', f1_score(C_test['label'], predictions_3))\n",
    "print ('Test Recall:', recall_score(C_test['label'], predictions_3))\n",
    "print ('Test Precision:', precision_score(C_test['label'], predictions_3))"
   ]
  },
  {
   "cell_type": "markdown",
   "metadata": {},
   "source": [
    "## Gaussian Process Classifier"
   ]
  },
  {
   "cell_type": "code",
   "execution_count": null,
   "metadata": {},
   "outputs": [],
   "source": [
    "import sklearn.gaussian_process as gp\n",
    "kernel =  gp.kernels.ConstantKernel(2.0) * gp.kernels.RBF(0.1)\n",
    "\n",
    "model4 = gp.GaussianProcessClassifier(kernel=kernel).fit(M5_train.loc[:,'TOTUSJH':'MEANGBT'], M5_train['label'])\n",
    "params = model4.kernel_.get_params()"
   ]
  },
  {
   "cell_type": "code",
   "execution_count": null,
   "metadata": {},
   "outputs": [],
   "source": [
    "y_pred = model4.predict_proba(M_valid.loc[:,'TOTUSJH':'MEANGBT'])"
   ]
  },
  {
   "cell_type": "code",
   "execution_count": null,
   "metadata": {},
   "outputs": [],
   "source": []
  },
  {
   "cell_type": "code",
   "execution_count": null,
   "metadata": {},
   "outputs": [],
   "source": []
  },
  {
   "cell_type": "markdown",
   "metadata": {},
   "source": [
    "## LSTM"
   ]
  },
  {
   "cell_type": "code",
   "execution_count": 8,
   "metadata": {},
   "outputs": [],
   "source": [
    "def convert_categorical(train,valid,test):\n",
    "    train['label'] = train['label'].astype('category',copy=False)\n",
    "    valid['label'] = valid['label'].astype('category',copy=False)\n",
    "    test['label'] = test['label'].astype('category',copy=False)\n",
    "    return (train['label'],valid['label'],test['label'])"
   ]
  },
  {
   "cell_type": "code",
   "execution_count": 9,
   "metadata": {},
   "outputs": [],
   "source": [
    "#M class\n",
    "M_train['label'],M_valid['label'],M_test['label'] = convert_categorical(M_train,M_valid,M_test)\n",
    "#M5 class\n",
    "M5_train['label'],M5_valid['label'],M5_test['label'] = convert_categorical(M5_train,M5_valid,M5_test)\n",
    "#C class\n",
    "C_train['label'],C_valid['label'],C_test['label'] = convert_categorical(C_train,C_valid,C_test)"
   ]
  },
  {
   "cell_type": "code",
   "execution_count": 64,
   "metadata": {},
   "outputs": [],
   "source": [
    "def split_data(X, y, time_steps=1):\n",
    "    Xs, ys = [], []\n",
    "    for i in range(len(X) - time_steps):\n",
    "        v = X.iloc[i:(i + time_steps)].values\n",
    "        Xs.append(v)\n",
    "        ys.append(y.iloc[i + time_steps])\n",
    "    return np.array(Xs), np.array(ys)\n"
   ]
  },
  {
   "cell_type": "code",
   "execution_count": 65,
   "metadata": {},
   "outputs": [],
   "source": [
    "time_steps = 40\n",
    "\n",
    "# reshape to [samples, time_steps, n_features]\n",
    "X_train_M, y_train_M = split_data(M_train.loc[:,'TOTUSJH':'MEANGBT'], M_train['label'], time_steps)\n",
    "X_valid_M, y_valid_M = split_data(M_valid.loc[:,'TOTUSJH':'MEANGBT'], M_valid['label'], time_steps)\n",
    "X_test_M, y_test_M = split_data(M_test.loc[:,'TOTUSJH':'MEANGBT'], M_test['label'], time_steps)\n",
    "\n",
    "# M5 class\n",
    "X_train_M5, y_train_M5 = split_data(M5_train.loc[:,'TOTUSJH':'MEANGBT'], M5_train['label'], time_steps)\n",
    "X_valid_M5, y_valid_M5 = split_data(M5_valid.loc[:,'TOTUSJH':'MEANGBT'], M5_valid['label'], time_steps)\n",
    "X_test_M5, y_test_M5 = split_data(M5_test.loc[:,'TOTUSJH':'MEANGBT'], M5_test['label'], time_steps)\n",
    "\n",
    "# C class\n",
    "X_train_C, y_train_C = split_data(C_train.loc[:,'TOTUSJH':'MEANGBT'], C_train['label'], time_steps)\n",
    "X_valid_C, y_valid_C = split_data(C_valid.loc[:,'TOTUSJH':'MEANGBT'], C_valid['label'], time_steps)\n",
    "X_test_C, y_test_C = split_data(C_test.loc[:,'TOTUSJH':'MEANGBT'], C_test['label'], time_steps)"
   ]
  },
  {
   "cell_type": "code",
   "execution_count": 49,
   "metadata": {},
   "outputs": [],
   "source": [
    "RANDOM_SEED = 40\n",
    "\n",
    "np.random.seed(RANDOM_SEED)\n",
    "tf.random.set_seed(RANDOM_SEED)\n",
    "\n",
    "def lstm(X_train,y_train,X_valid,X_test):\n",
    "    \n",
    "    pred_5=[]\n",
    "    prediction_5=[]\n",
    "    \n",
    "    model5 = keras.Sequential()\n",
    "    #LSTM\n",
    "    model5.add(keras.layers.LSTM(\n",
    "      units=10,\n",
    "      input_shape=(X_train.shape[1], X_train.shape[2])\n",
    "        ))\n",
    "    #Dense Layer\n",
    "    model5.add(keras.layers.Dense(units=200,activation='relu'))\n",
    "    model5.add(keras.layers.Dropout(0.5))\n",
    "    model5.add(keras.layers.Dense(units=2,activation='softmax'))\n",
    "    model5.compile(\n",
    "      loss='sparse_categorical_crossentropy',\n",
    "                      optimizer='adam',\n",
    "                      metrics=['accuracy'])\n",
    "    history = model5.fit(X_train, y_train,\n",
    "            epochs=10,batch_size=256,verbose=1,shuffle=False)\n",
    "    y_pred = model5.predict(X_valid)\n",
    "    y_pred5 = model5.predict(X_test)\n",
    "    \n",
    "    #validation prediction\n",
    "    \n",
    "    for i in y_pred:\n",
    "        if i[0] > i[1]:\n",
    "            pred_5.append(0)\n",
    "        else:\n",
    "            pred_5.append(1)\n",
    "    #for test data\n",
    "    for i in y_pred5:\n",
    "        if i[0] > i[1]:\n",
    "            prediction_5.append(0)\n",
    "        else:\n",
    "            prediction_5.append(1)\n",
    "    \n",
    "    return (pred_5,prediction_5)"
   ]
  },
  {
   "cell_type": "code",
   "execution_count": 52,
   "metadata": {},
   "outputs": [
    {
     "name": "stdout",
     "output_type": "stream",
     "text": [
      "Train on 84537 samples\n",
      "Epoch 1/10\n",
      "84537/84537 [==============================] - 15s 175us/sample - loss: 0.1569 - accuracy: 0.9649\n",
      "Epoch 2/10\n",
      "84537/84537 [==============================] - 11s 130us/sample - loss: 0.1075 - accuracy: 0.9679\n",
      "Epoch 3/10\n",
      "84537/84537 [==============================] - 11s 126us/sample - loss: 0.1022 - accuracy: 0.9679\n",
      "Epoch 4/10\n",
      "84537/84537 [==============================] - 16s 187us/sample - loss: 0.1000 - accuracy: 0.9680\n",
      "Epoch 5/10\n",
      "84537/84537 [==============================] - 19s 230us/sample - loss: 0.0977 - accuracy: 0.9679\n",
      "Epoch 6/10\n",
      "84537/84537 [==============================] - 13s 150us/sample - loss: 0.0956 - accuracy: 0.9679\n",
      "Epoch 7/10\n",
      "84537/84537 [==============================] - 13s 151us/sample - loss: 0.0938 - accuracy: 0.9683\n",
      "Epoch 8/10\n",
      "84537/84537 [==============================] - 13s 158us/sample - loss: 0.0918 - accuracy: 0.9686\n",
      "Epoch 9/10\n",
      "84537/84537 [==============================] - 12s 143us/sample - loss: 0.0903 - accuracy: 0.9691\n",
      "Epoch 10/10\n",
      "84537/84537 [==============================] - 12s 137us/sample - loss: 0.0890 - accuracy: 0.9695\n",
      "Accuracy: 0.9532024363485038\n",
      "F1 score: 0.3640102827763496\n",
      "Recall: 0.26280623608017817\n",
      "Precision: 0.5919732441471572\n",
      "-------------------------------\n",
      "\n",
      "Test Accuracy: 0.9754977715066406\n",
      "Test F1 score: 0.40608034744842564\n",
      "Test Recall: 0.29264475743348983\n",
      "Test Precision: 0.6631205673758865\n"
     ]
    }
   ],
   "source": [
    "from sklearn.metrics import precision_score, recall_score, accuracy_score, f1_score\n",
    "#M class\n",
    "pred_5, prediction_5 = lstm(X_train_M,y_train_M,X_valid_M,X_test_M)\n",
    "#validation set\n",
    "print ('\\nAccuracy:', accuracy_score(y_valid_M, pred_5))\n",
    "print ('F1 score:', f1_score(y_valid_M, pred_5))\n",
    "print ('Recall:', recall_score(y_valid_M, pred_5))\n",
    "print ('Precision:', precision_score(y_valid_M, pred_5))\n",
    "print('-------------------------------\\n')\n",
    "#test set\n",
    "print ('Test Accuracy:', accuracy_score(y_test_M, prediction_5))\n",
    "print ('Test F1 score:', f1_score(y_test_M, prediction_5))\n",
    "print ('Test Recall:', recall_score(y_test_M, prediction_5))\n",
    "print ('Test Precision:', precision_score(y_test_M, prediction_5))"
   ]
  },
  {
   "cell_type": "code",
   "execution_count": 53,
   "metadata": {},
   "outputs": [
    {
     "name": "stdout",
     "output_type": "stream",
     "text": [
      "Train on 84537 samples\n",
      "Epoch 1/10\n",
      "84537/84537 [==============================] - 14s 166us/sample - loss: 0.0866 - accuracy: 0.9893\n",
      "Epoch 2/10\n",
      "84537/84537 [==============================] - 10s 117us/sample - loss: 0.0336 - accuracy: 0.9925\n",
      "Epoch 3/10\n",
      "84537/84537 [==============================] - 10s 120us/sample - loss: 0.0319 - accuracy: 0.9925\n",
      "Epoch 4/10\n",
      "84537/84537 [==============================] - 10s 123us/sample - loss: 0.0312 - accuracy: 0.9925\n",
      "Epoch 5/10\n",
      "84537/84537 [==============================] - 10s 123us/sample - loss: 0.0306 - accuracy: 0.9925\n",
      "Epoch 6/10\n",
      "84537/84537 [==============================] - 10s 124us/sample - loss: 0.0299 - accuracy: 0.9925\n",
      "Epoch 7/10\n",
      "84537/84537 [==============================] - 12s 138us/sample - loss: 0.0290 - accuracy: 0.9925\n",
      "Epoch 8/10\n",
      "84537/84537 [==============================] - 11s 130us/sample - loss: 0.0293 - accuracy: 0.9925\n",
      "Epoch 9/10\n",
      "84537/84537 [==============================] - 11s 126us/sample - loss: 0.0273 - accuracy: 0.9925\n",
      "Epoch 10/10\n",
      "84537/84537 [==============================] - 12s 139us/sample - loss: 0.0273 - accuracy: 0.9925\n",
      "\n",
      "Accuracy: 0.9889532024363485\n",
      "F1 score: 0.0\n",
      "Recall: 0.0\n",
      "Precision: 0.0\n",
      "-------------------------------\n",
      "\n",
      "Test Accuracy: 0.9866962305986696\n",
      "Test F1 score: 0.20161290322580647\n",
      "Test Recall: 0.4166666666666667\n",
      "Test Precision: 0.13297872340425532\n"
     ]
    },
    {
     "name": "stderr",
     "output_type": "stream",
     "text": [
      "/Users/shreysharma/opt/anaconda3/lib/python3.7/site-packages/sklearn/metrics/_classification.py:1221: UndefinedMetricWarning: Precision is ill-defined and being set to 0.0 due to no predicted samples. Use `zero_division` parameter to control this behavior.\n",
      "  _warn_prf(average, modifier, msg_start, len(result))\n"
     ]
    }
   ],
   "source": [
    "#M5 class\n",
    "pred_5, preidction_5 = lstm(X_train_M5,y_train_M5,X_valid_M5,X_test_M5)\n",
    "#validation set\n",
    "print ('\\nAccuracy:', accuracy_score(y_valid_M5, pred_5))\n",
    "print ('F1 score:', f1_score(y_valid_M5, pred_5))\n",
    "print ('Recall:', recall_score(y_valid_M5, pred_5))\n",
    "print ('Precision:', precision_score(y_valid_M5, pred_5))\n",
    "print('-------------------------------\\n')\n",
    "#test set\n",
    "print ('Test Accuracy:', accuracy_score(y_test_M5, prediction_5))\n",
    "print ('Test F1 score:', f1_score(y_test_M5, prediction_5))\n",
    "print ('Test Recall:', recall_score(y_test_M5, prediction_5))\n",
    "print ('Test Precision:', precision_score(y_test_M5, prediction_5))"
   ]
  },
  {
   "cell_type": "code",
   "execution_count": 54,
   "metadata": {},
   "outputs": [
    {
     "name": "stdout",
     "output_type": "stream",
     "text": [
      "Train on 84537 samples\n",
      "Epoch 1/10\n",
      "84537/84537 [==============================] - 13s 160us/sample - loss: 0.4835 - accuracy: 0.7999\n",
      "Epoch 2/10\n",
      "84537/84537 [==============================] - 10s 122us/sample - loss: 0.4271 - accuracy: 0.8145\n",
      "Epoch 3/10\n",
      "84537/84537 [==============================] - 10s 119us/sample - loss: 0.4123 - accuracy: 0.8216\n",
      "Epoch 4/10\n",
      "84537/84537 [==============================] - 11s 126us/sample - loss: 0.4018 - accuracy: 0.8263\n",
      "Epoch 5/10\n",
      "84537/84537 [==============================] - 11s 133us/sample - loss: 0.3927 - accuracy: 0.8307\n",
      "Epoch 6/10\n",
      "84537/84537 [==============================] - 12s 145us/sample - loss: 0.3855 - accuracy: 0.8357\n",
      "Epoch 7/10\n",
      "84537/84537 [==============================] - 11s 131us/sample - loss: 0.3799 - accuracy: 0.8390\n",
      "Epoch 8/10\n",
      "84537/84537 [==============================] - 11s 131us/sample - loss: 0.3753 - accuracy: 0.8417-\n",
      "Epoch 9/10\n",
      "84537/84537 [==============================] - 11s 134us/sample - loss: 0.3715 - accuracy: 0.8441\n",
      "Epoch 10/10\n",
      "84537/84537 [==============================] - 11s 134us/sample - loss: 0.3686 - accuracy: 0.8453\n",
      "\n",
      "Accuracy: 0.8077781560927628\n",
      "F1 score: 0.5921168820743358\n",
      "Recall: 0.5227498228206945\n",
      "Precision: 0.6827101073676416\n",
      "-------------------------------\n",
      "\n",
      "Test Accuracy: 0.816166095545253\n",
      "Test F1 score: 0.11398963730569948\n",
      "Test Recall: 0.060689655172413794\n",
      "Test Precision: 0.9361702127659575\n"
     ]
    }
   ],
   "source": [
    "#C class\n",
    "pred_5, preidction_5 = lstm(X_train_C,y_train_C,X_valid_C,X_test_C)\n",
    "#validation set\n",
    "print ('\\nAccuracy:', accuracy_score(y_valid_C, pred_5))\n",
    "print ('F1 score:', f1_score(y_valid_C, pred_5))\n",
    "print ('Recall:', recall_score(y_valid_C, pred_5))\n",
    "print ('Precision:', precision_score(y_valid_C, pred_5))\n",
    "print('-------------------------------\\n')\n",
    "#test set\n",
    "print ('Test Accuracy:', accuracy_score(y_test_C, prediction_5))\n",
    "print ('Test F1 score:', f1_score(y_test_C, prediction_5))\n",
    "print ('Test Recall:', recall_score(y_test_C, prediction_5))\n",
    "print ('Test Precision:', precision_score(y_test_C, prediction_5))"
   ]
  },
  {
   "cell_type": "code",
   "execution_count": 16,
   "metadata": {},
   "outputs": [],
   "source": []
  },
  {
   "cell_type": "markdown",
   "metadata": {},
   "source": [
    "## Bidirectional LSTM"
   ]
  },
  {
   "cell_type": "code",
   "execution_count": 67,
   "metadata": {},
   "outputs": [],
   "source": [
    "def bi_lstm(X_train,y_train,X_valid,X_test,n_features=23):\n",
    "    n_steps=40\n",
    "    \n",
    "    pred_6=[]\n",
    "    predictions_test=[]\n",
    "    # Bidirectional LSTM model\n",
    "    model6 =keras.Sequential()\n",
    "    model6.add(keras.layers.Bidirectional(keras.layers.LSTM(20), merge_mode='concat', input_shape=(n_steps, n_features)))\n",
    "    model6.add(keras.layers.Dense(units=200,activation='relu'))\n",
    "    model6.add(keras.layers.Dropout(0.5))\n",
    "    model6.add(keras.layers.Dense(units=2,activation='softmax'))\n",
    "    model6.compile(loss='sparse_categorical_crossentropy',\n",
    "                      optimizer='adam',\n",
    "                      metrics=['accuracy'])\n",
    "    \n",
    "    X_train = X_train.reshape((X_train.shape[0], X_train.shape[1], n_features))\n",
    "    # fit model\n",
    "    model6.fit(X_train, y_train, epochs=15, verbose=0)\n",
    "    # demonstrate prediction\n",
    "    X_test = X_test.reshape((len(X_test), n_steps, n_features))\n",
    "    #prediction for validation data\n",
    "    y_hat = model6.predict(X_valid, verbose=0)\n",
    "    #prediction on test set \n",
    "    y_pred6 = model6.predict(X_test, verbose=0)\n",
    "    \n",
    "    #predictions for validation data\n",
    "\n",
    "    for i in y_hat:\n",
    "        if i[0] > i[1]:\n",
    "            pred_6.append(0)\n",
    "        else:\n",
    "            pred_6.append(1)\n",
    "    #test predictions\n",
    "\n",
    "    for i in y_pred6:\n",
    "        if i[0] > i[1]:\n",
    "            predictions_test.append(0)\n",
    "        else:\n",
    "            predictions_test.append(1)\n",
    "            \n",
    "    return (pred_6,predictions_test)"
   ]
  },
  {
   "cell_type": "code",
   "execution_count": 20,
   "metadata": {},
   "outputs": [
    {
     "name": "stdout",
     "output_type": "stream",
     "text": [
      "\n",
      "Accuracy: 0.9435175727310559\n",
      "F1 score: 0.19860440150295222\n",
      "Recall: 0.13734224201930215\n",
      "Precision: 0.35852713178294576\n",
      "--------------------------\n",
      "\n",
      "Test Accuracy: 0.9622611928598624\n",
      "Test F1 score: 0.18084589207583857\n",
      "Test Recall: 0.14553990610328638\n",
      "Test Precision: 0.23876765083440307\n"
     ]
    }
   ],
   "source": [
    "from sklearn.metrics import precision_score, recall_score, accuracy_score, f1_score\n",
    "#getting predictions for train and test set\n",
    "pred_6, predictions_test = bi_lstm(X_train_M,y_train_M,X_valid_M,X_test_M)\n",
    "\n",
    "print ('\\nAccuracy:', accuracy_score(y_valid_M, pred_6))\n",
    "print ('F1 score:', f1_score(y_valid_M, pred_6))\n",
    "print ('Recall:', recall_score(y_valid_M, pred_6))\n",
    "print ('Precision:', precision_score(y_valid_M, pred_6))\n",
    "print('--------------------------\\n')\n",
    "print ('Test Accuracy:', accuracy_score(y_test_M, predictions_test))\n",
    "print ('Test F1 score:', f1_score(y_test_M, predictions_test))\n",
    "print ('Test Recall:', recall_score(y_test_M, predictions_test))\n",
    "print ('Test Precision:', precision_score(y_test_M, predictions_test))"
   ]
  },
  {
   "cell_type": "code",
   "execution_count": 68,
   "metadata": {},
   "outputs": [
    {
     "name": "stdout",
     "output_type": "stream",
     "text": [
      "\n",
      "Accuracy: 0.9846025801081981\n",
      "F1 score: 0.16427104722792607\n",
      "Recall: 0.136986301369863\n",
      "Precision: 0.20512820512820512\n",
      "--------------------------\n",
      "\n",
      "Test Accuracy: 0.9912875988264015\n",
      "Test F1 score: 0.010178117048346057\n",
      "Test Recall: 0.011111111111111112\n",
      "Test Precision: 0.009389671361502348\n"
     ]
    }
   ],
   "source": [
    "pred_6, predictions_test = bi_lstm(X_train_M5,y_train_M5,X_valid_M5,X_test_M5,n_features=22)\n",
    "\n",
    "print ('\\nAccuracy:', accuracy_score(y_valid_M5, pred_6))\n",
    "print ('F1 score:', f1_score(y_valid_M5, pred_6))\n",
    "print ('Recall:', recall_score(y_valid_M5, pred_6))\n",
    "print ('Precision:', precision_score(y_valid_M5, pred_6))\n",
    "print('--------------------------\\n')\n",
    "print ('Test Accuracy:', accuracy_score(y_test_M5, predictions_test))\n",
    "print ('Test F1 score:', f1_score(y_test_M5, predictions_test))\n",
    "print ('Test Recall:', recall_score(y_test_M5, predictions_test))\n",
    "print ('Test Precision:', precision_score(y_test_M5, predictions_test))"
   ]
  },
  {
   "cell_type": "code",
   "execution_count": 24,
   "metadata": {},
   "outputs": [
    {
     "name": "stdout",
     "output_type": "stream",
     "text": [
      "\n",
      "Accuracy: 0.764120606817236\n",
      "F1 score: 0.5437916148386623\n",
      "Recall: 0.526718639262934\n",
      "Precision: 0.5620084694494858\n",
      "--------------------------\n",
      "\n",
      "Test Accuracy: 0.8125601917176196\n",
      "Test F1 score: 0.49471714061462296\n",
      "Test Recall: 0.4709195402298851\n",
      "Test Precision: 0.5210479460765611\n"
     ]
    }
   ],
   "source": [
    "pred_6, predictions_test = bi_lstm(X_train_C,y_train_C,X_valid_C,X_test_C)\n",
    "print ('\\nAccuracy:', accuracy_score(y_valid_C, pred_6))\n",
    "print ('F1 score:', f1_score(y_valid_C, pred_6))\n",
    "print ('Recall:', recall_score(y_valid_C, pred_6))\n",
    "print ('Precision:', precision_score(y_valid_C, pred_6))\n",
    "print('--------------------------\\n')\n",
    "print ('Test Accuracy:', accuracy_score(y_test_C, predictions_test))\n",
    "print ('Test F1 score:', f1_score(y_test_C, predictions_test))\n",
    "print ('Test Recall:', recall_score(y_test_C, predictions_test))\n",
    "print ('Test Precision:', precision_score(y_test_C, predictions_test))"
   ]
  },
  {
   "cell_type": "code",
   "execution_count": 78,
   "metadata": {},
   "outputs": [],
   "source": []
  },
  {
   "cell_type": "code",
   "execution_count": 69,
   "metadata": {},
   "outputs": [],
   "source": []
  },
  {
   "cell_type": "markdown",
   "metadata": {},
   "source": [
    "## Cascaded bidirectional & unidirectional LSTM model"
   ]
  },
  {
   "cell_type": "code",
   "execution_count": 71,
   "metadata": {},
   "outputs": [],
   "source": [
    "# Cascaded bidirectional and unidirectional model\n",
    "def cascaded_lstm(X_train,y_train,X_valid,X_test,n_features=23):\n",
    "    n_steps=40\n",
    "    pred_7=[]\n",
    "    pred_test7=[]\n",
    "    \n",
    "    model7 =keras.Sequential()\n",
    "    model7.add(keras.layers.Bidirectional(keras.layers.LSTM(20, input_shape=(X_train.shape[1],X_train.shape[2]),return_sequences=True),merge_mode='concat'))\n",
    "    model7.add(keras.layers.LSTM(10,input_shape=(X_train.shape[1],X_test.shape[2])))\n",
    "    model7.add(keras.layers.Dense(units=200,activation='relu'))\n",
    "    model7.add(keras.layers.Dropout(0.5))\n",
    "    model7.add(keras.layers.Dense(units=2,activation='softmax'))\n",
    "    model7.compile(loss='sparse_categorical_crossentropy',\n",
    "                      optimizer='adam',\n",
    "                      metrics=['accuracy'])\n",
    "    \n",
    "    X_train = X_train.reshape((X_train.shape[0], X_train.shape[1], n_features))\n",
    "    # fit model\n",
    "    model7.fit(X_train, y_train, epochs=15, verbose=0)\n",
    "    # demonstrate prediction\n",
    "    X_test = X_test.reshape((len(X_test), n_steps, n_features))\n",
    "    yhat = model7.predict(X_valid, verbose=0)\n",
    "    #predicting for test set \n",
    "    y_pred7 = model7.predict(X_test, verbose=0)\n",
    "    #predictions for validation data\n",
    "    for i in yhat:\n",
    "        if i[0] > i[1]:\n",
    "            pred_7.append(0)\n",
    "        else:\n",
    "            pred_7.append(1)\n",
    "    #predictions for test data\n",
    "    for i in y_pred7:\n",
    "        if i[0] > i[1]:\n",
    "            pred_test7.append(0)\n",
    "        else:\n",
    "            pred_test7.append(1)\n",
    "    return (pred_7, pred_test7)"
   ]
  },
  {
   "cell_type": "code",
   "execution_count": 29,
   "metadata": {},
   "outputs": [
    {
     "name": "stdout",
     "output_type": "stream",
     "text": [
      "\n",
      "Accuracy: 0.945371316157833\n",
      "F1 score: 0.37597234226447707\n",
      "Recall: 0.32293986636971045\n",
      "Precision: 0.4498448810754912\n",
      "--------------------------\n",
      "\n",
      "Test Accuracy: 0.9610293623597393\n",
      "Test F1 score: 0.25321888412017174\n",
      "Test Recall: 0.23082942097026604\n",
      "Test Precision: 0.2804182509505703\n"
     ]
    }
   ],
   "source": [
    "#M class flares\n",
    "pred_7, pred_test7 = cascaded_lstm(X_train_M,y_train_M,X_valid_M,X_test_M)\n",
    "print ('\\nAccuracy:', accuracy_score(y_valid_M, pred_7))\n",
    "print ('F1 score:', f1_score(y_valid_M, pred_7))\n",
    "print ('Recall:', recall_score(y_valid_M, pred_7))\n",
    "print ('Precision:', precision_score(y_valid_M, pred_7))\n",
    "print('--------------------------\\n')\n",
    "print ('Test Accuracy:', accuracy_score(y_test_M, pred_test7))\n",
    "print ('Test F1 score:', f1_score(y_test_M, pred_test7))\n",
    "print ('Test Recall:', recall_score(y_test_M, pred_test7))\n",
    "print ('Test Precision:', precision_score(y_test_M, pred_test7))"
   ]
  },
  {
   "cell_type": "code",
   "execution_count": 72,
   "metadata": {},
   "outputs": [
    {
     "name": "stdout",
     "output_type": "stream",
     "text": [
      "\n",
      "Accuracy: 0.9862671660424469\n",
      "F1 score: 0.1768707482993197\n",
      "Recall: 0.13356164383561644\n",
      "Precision: 0.26174496644295303\n",
      "--------------------------\n",
      "\n",
      "Test Accuracy: 0.9920938878810276\n",
      "Test F1 score: 0.005633802816901408\n",
      "Test Recall: 0.005555555555555556\n",
      "Test Precision: 0.005714285714285714\n"
     ]
    }
   ],
   "source": [
    "#M5 class flares\n",
    "pred_7, pred_test7 = cascaded_lstm(X_train_M5,y_train_M5,X_valid_M5,X_test_M5,n_features=22)\n",
    "\n",
    "print ('\\nAccuracy:', accuracy_score(y_valid_M5, pred_7))\n",
    "print ('F1 score:', f1_score(y_valid_M5, pred_7))\n",
    "print ('Recall:', recall_score(y_valid_M5, pred_7))\n",
    "print ('Precision:', precision_score(y_valid_M5, pred_7))\n",
    "print('--------------------------\\n')\n",
    "print ('Test Accuracy:', accuracy_score(y_test_M5, pred_test7))\n",
    "print ('Test F1 score:', f1_score(y_test_M5, pred_test7))\n",
    "print ('Test Recall:', recall_score(y_test_M5, pred_test7))\n",
    "print ('Test Precision:', precision_score(y_test_M5, pred_test7))"
   ]
  },
  {
   "cell_type": "code",
   "execution_count": 31,
   "metadata": {},
   "outputs": [
    {
     "name": "stdout",
     "output_type": "stream",
     "text": [
      "\n",
      "Accuracy: 0.7714599175273332\n",
      "F1 score: 0.5725606736007924\n",
      "Recall: 0.5734939759036145\n",
      "Precision: 0.571630404068946\n",
      "--------------------------\n",
      "\n",
      "Test Accuracy: 0.8051020179623284\n",
      "Test F1 score: 0.5016036655211913\n",
      "Test Recall: 0.5033333333333333\n",
      "Test Precision: 0.49988584474885844\n"
     ]
    }
   ],
   "source": [
    "#C class flares\n",
    "pred_7, pred_test7 = cascaded_lstm(X_train_C,y_train_C,X_valid_C,X_test_C)\n",
    "print ('\\nAccuracy:', accuracy_score(y_valid_C, pred_7))\n",
    "print ('F1 score:', f1_score(y_valid_C, pred_7))\n",
    "print ('Recall:', recall_score(y_valid_C, pred_7))\n",
    "print ('Precision:', precision_score(y_valid_C, pred_7))\n",
    "print('--------------------------\\n')\n",
    "print ('Test Accuracy:', accuracy_score(y_test_C, pred_test7))\n",
    "print ('Test F1 score:', f1_score(y_test_C, pred_test7))\n",
    "print ('Test Recall:', recall_score(y_test_C, pred_test7))\n",
    "print ('Test Precision:', precision_score(y_test_C, pred_test7))"
   ]
  },
  {
   "cell_type": "markdown",
   "metadata": {},
   "source": [
    "## Table of comparision"
   ]
  },
  {
   "cell_type": "markdown",
   "metadata": {},
   "source": [
    "## M-class"
   ]
  },
  {
   "cell_type": "markdown",
   "metadata": {},
   "source": [
    "Models             | Accuracy     | Precision | Recall | F1-Score\n",
    "-----------------: |-------------:|----------:|-------:|---------:\n",
    "ARIMA              | 0.520 | 0.049 |  0.869 | 0.093  \n",
    "LSTM               | 0.976 | 0.663 | 0.343 | __*0.452*__\n",
    "AR                 | 0.792 | 0.096 | 0.748 | 0.171\n",
    "VAR                | 0.966 | 0.065 | 0.013 | 0.022\n",
    "Bidirectional LSTM | 0.967 | 0.337 | 0.144 | 0.203\n",
    "Cascaded bidirectional and unidirectional based LSTM | 0.967 | 0.308 | 0.129 | 0.182"
   ]
  },
  {
   "cell_type": "markdown",
   "metadata": {},
   "source": [
    "## M5 class"
   ]
  },
  {
   "cell_type": "markdown",
   "metadata": {},
   "source": [
    "Models             | Accuracy     | Precision | Recall | F1-Score\n",
    "-----------------: |-------------:|----------:|-------:|---------:\n",
    "ARIMA              | 0.691 | 0.022 |  0.890 | 0.020  \n",
    "LSTM               | 0.987 | 0.133 | 0.417 | __*0.202*__\n",
    "AR                 | 0.933 | 0.036 | 0.6 | 0.067\n",
    "VAR                | 0.988 | 0.0 | 0.0 | 0.0\n",
    "Bidirectional LSTM | 0.992 | 0.009 | 0.011 | 0.010\n",
    "Cascaded bidirectional and unidirectional based LSTM | 0.992 | 0.005 | 0.005 | 0.006"
   ]
  },
  {
   "cell_type": "markdown",
   "metadata": {},
   "source": [
    "## C class"
   ]
  },
  {
   "cell_type": "markdown",
   "metadata": {},
   "source": [
    "Models             | Accuracy     | Precision | Recall | F1-Score\n",
    "-----------------: |-------------:|----------:|-------:|---------:\n",
    "ARIMA              | .. | .. |  .. | ..  \n",
    "LSTM               | 0.816 | 0.936 | 0.061 | 0.114\n",
    "AR                 | 0.313 | 0.209 | 0.909 | 0.341\n",
    "VAR                | 0.802 | 0.303 | 0.008 | 0.017\n",
    "Bidirectional LSTM | 0.813 | 0.521 | 0.471 | 0.494\n",
    "Cascaded bidirectional and unidirectional based LSTM | 0.805 | 0.499 | 0.503 | __*0.501*__"
   ]
  },
  {
   "cell_type": "code",
   "execution_count": null,
   "metadata": {},
   "outputs": [],
   "source": []
  }
 ],
 "metadata": {
  "kernelspec": {
   "display_name": "Python 3",
   "language": "python",
   "name": "python3"
  },
  "language_info": {
   "codemirror_mode": {
    "name": "ipython",
    "version": 3
   },
   "file_extension": ".py",
   "mimetype": "text/x-python",
   "name": "python",
   "nbconvert_exporter": "python",
   "pygments_lexer": "ipython3",
   "version": "3.7.4"
  }
 },
 "nbformat": 4,
 "nbformat_minor": 2
}
